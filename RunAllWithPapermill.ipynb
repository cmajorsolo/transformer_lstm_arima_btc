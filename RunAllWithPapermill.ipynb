{
 "cells": [
  {
   "cell_type": "code",
   "execution_count": 1,
   "id": "0866225a",
   "metadata": {},
   "outputs": [],
   "source": [
    "import papermill as pm"
   ]
  },
  {
   "cell_type": "code",
   "execution_count": null,
   "id": "abe3c821",
   "metadata": {},
   "outputs": [
    {
     "data": {
      "application/vnd.jupyter.widget-view+json": {
       "model_id": "651b3f882d8d46839ee8e109c9e517ac",
       "version_major": 2,
       "version_minor": 0
      },
      "text/plain": [
       "Executing:   0%|          | 0/24 [00:00<?, ?cell/s]"
      ]
     },
     "metadata": {},
     "output_type": "display_data"
    }
   ],
   "source": [
    "transformer_no_norm = pm.execute_notebook('Transformer_btc_with_no_normalization.ipynb', 'transformer_no_norm_btc.ipynb')"
   ]
  },
  {
   "cell_type": "code",
   "execution_count": null,
   "id": "a9c4f1a5",
   "metadata": {},
   "outputs": [],
   "source": [
    "transformer_norm = pm.execute_notebook('Transformer_btc_with_normalization.ipynb', 'transformer_norm_btc.ipynb')"
   ]
  },
  {
   "cell_type": "code",
   "execution_count": null,
   "id": "6a83d49e",
   "metadata": {},
   "outputs": [],
   "source": [
    "transformer_no_norm = pm.execute_notebook('LSTM_with_no_normalization_btc.ipynb', 'lstm_no_norm_btc.ipynb')"
   ]
  },
  {
   "cell_type": "code",
   "execution_count": null,
   "id": "600937df",
   "metadata": {},
   "outputs": [],
   "source": [
    "transformer_norm = pm.execute_notebook('LSTM_with_normalization_btc.ipynb', 'lstm_norm_btc.ipynb')"
   ]
  }
 ],
 "metadata": {
  "environment": {
   "name": "pytorch-gpu.1-8.m65",
   "type": "gcloud",
   "uri": "gcr.io/deeplearning-platform-release/pytorch-gpu.1-8:m65"
  },
  "kernelspec": {
   "display_name": "Python 3",
   "language": "python",
   "name": "python3"
  },
  "language_info": {
   "codemirror_mode": {
    "name": "ipython",
    "version": 3
   },
   "file_extension": ".py",
   "mimetype": "text/x-python",
   "name": "python",
   "nbconvert_exporter": "python",
   "pygments_lexer": "ipython3",
   "version": "3.7.10"
  }
 },
 "nbformat": 4,
 "nbformat_minor": 5
}
