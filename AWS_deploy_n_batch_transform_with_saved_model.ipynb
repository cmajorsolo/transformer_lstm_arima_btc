{
 "cells": [
  {
   "cell_type": "markdown",
   "id": "aca02c5b",
   "metadata": {},
   "source": [
    "Endpoint"
   ]
  },
  {
   "cell_type": "code",
   "execution_count": 1,
   "id": "eb7e0f2a",
   "metadata": {},
   "outputs": [],
   "source": [
    "# deploy trained model \n",
    "# https://sagemaker.readthedocs.io/en/stable/frameworks/tensorflow/using_tf.html#run-a-batch-transform-job\n",
    "import sagemaker\n",
    "from sagemaker.tensorflow import TensorFlowModel\n",
    "\n",
    "model = TensorFlowModel(\n",
    "    model_data='s3://sagemaker-eu-west-1-291287855072/tf-sentiment-2021-11-03-20-57-17-102/output/model.tar.gz', \n",
    "    role=sagemaker.get_execution_role(),\n",
    "    framework_version='2.1',)\n",
    "# predictor = model.deploy(initial_instance_count=1, instance_type='ml.c5.xlarge')\n",
    "# print('Done')"
   ]
  },
  {
   "cell_type": "code",
   "execution_count": 6,
   "id": "987c302e",
   "metadata": {},
   "outputs": [
    {
     "name": "stdout",
     "output_type": "stream",
     "text": [
      "(2, 240, 6)\n"
     ]
    }
   ],
   "source": [
    "import numpy as np\n",
    "# creating endpoint test data \n",
    "seq_len = 240\n",
    "test_data = [[[0.52, 0.49, 0.56, 0.52, 0.0039, 0.21]]*seq_len]\n",
    "test_data_2 = [[0.1, 0.2, 0.1, 0.2, 0.004, 0.11]]*seq_len\n",
    "test_data.append(test_data_2)\n",
    "\n",
    "test_data_np = np.array(test_data)\n",
    "# print(test_data)\n",
    "print(test_data_np.shape)\n"
   ]
  },
  {
   "cell_type": "code",
   "execution_count": 8,
   "id": "dcdf139d",
   "metadata": {},
   "outputs": [
    {
     "name": "stdout",
     "output_type": "stream",
     "text": [
      "[[0.518736303], [0.140373588]]\n"
     ]
    }
   ],
   "source": [
    "# predction with deployed endpoint \n",
    "predictions = predictor.predict(test_data)['predictions'] #returns a list of lists\n",
    "print(predictions)"
   ]
  },
  {
   "cell_type": "markdown",
   "id": "5c289bfc",
   "metadata": {},
   "source": [
    "Batch Processing"
   ]
  },
  {
   "cell_type": "code",
   "execution_count": 2,
   "id": "2f97375c",
   "metadata": {},
   "outputs": [],
   "source": [
    "batch_output = 's3://cmajorsolo-transformerbucket/output'\n",
    "transformer = model.transformer(instance_count=1, instance_type='ml.c5.xlarge', output_path=batch_output)"
   ]
  },
  {
   "cell_type": "code",
   "execution_count": null,
   "id": "7657c161",
   "metadata": {},
   "outputs": [],
   "source": [
    "test_data_s3 = 's3://sagemaker-eu-west-1-291287855072/Data/testing/x_test.npy'"
   ]
  }
 ],
 "metadata": {
  "kernelspec": {
   "display_name": "conda_tensorflow2_p36",
   "language": "python",
   "name": "conda_tensorflow2_p36"
  },
  "language_info": {
   "codemirror_mode": {
    "name": "ipython",
    "version": 3
   },
   "file_extension": ".py",
   "mimetype": "text/x-python",
   "name": "python",
   "nbconvert_exporter": "python",
   "pygments_lexer": "ipython3",
   "version": "3.6.13"
  }
 },
 "nbformat": 4,
 "nbformat_minor": 5
}
